{
 "cells": [
  {
   "cell_type": "markdown",
   "id": "23ae9fce-ea81-406b-8aa5-bf5d54f0647a",
   "metadata": {},
   "source": [
    "## Task 2"
   ]
  },
  {
   "cell_type": "code",
   "execution_count": 1,
   "id": "a764a9a6-81da-46ce-8e9b-694f9dd6e410",
   "metadata": {},
   "outputs": [],
   "source": [
    "import pandas as pd\n",
    "from sklearn.metrics.pairwise import cosine_similarity\n",
    "from sklearn.preprocessing import StandardScaler\n",
    "\n",
    "# Load the customer and transaction data\n",
    "customers = pd.read_csv(\"Customers.csv\")\n",
    "transactions = pd.read_csv(\"Transactions.csv\")\n",
    "\n",
    "## Dropping the missing values if any in the dataset.....\n",
    "customers = customers.dropna()  \n",
    "transactions = transactions.dropna()  "
   ]
  },
  {
   "cell_type": "markdown",
   "id": "c11d52bc-2b0a-4686-ad15-56b23e1ad556",
   "metadata": {},
   "source": [
    "## Data Preprocessing:\n",
    "\n",
    "Customer and transaction data are loaded.\n",
    "\n",
    "Missing values are removed from both datasets."
   ]
  },
  {
   "cell_type": "code",
   "execution_count": 2,
   "id": "3d21e5bd-a82c-4afb-8bf0-57e7891b5731",
   "metadata": {},
   "outputs": [],
   "source": [
    "customer_transactions = transactions.groupby('CustomerID').agg({\n",
    "    'Quantity': 'sum',\n",
    "    'TotalValue': 'sum'\n",
    "}).reset_index()\n",
    "customer_profile = pd.merge(customers[['CustomerID', 'Region']], customer_transactions, on='CustomerID', how='left')\n",
    "\n",
    "\n",
    "customer_profile.fillna(0, inplace=True)\n",
    "\n",
    "\n",
    "customer_profile = pd.get_dummies(customer_profile, columns=['Region'], drop_first=True)\n"
   ]
  },
  {
   "cell_type": "markdown",
   "id": "d090ef61-ffcd-41b9-b146-a1322e609dbd",
   "metadata": {},
   "source": [
    "## Feature Engineering:\n",
    "\n",
    "Transaction data is aggregated by customer, calculating total quantity and total value of purchases.\n",
    "\n",
    "Customer profiles, including CustomerID and Region, are merged with aggregated transaction data.\n",
    "\n",
    "Missing values in the combined profile are filled with 0 (for customers with no transactions).\n",
    "\n",
    "One-hot encoding is applied to the Region column to convert it into binary features.\n",
    "\n",
    "## Similarity Calculation:\n",
    "\n",
    "The customer profile features are standardized to ensure they are on the same scale.\n",
    "Cosine similarity is calculated to measure how similar each customer is to others based on their profile and transaction history."
   ]
  },
  {
   "cell_type": "code",
   "execution_count": 3,
   "id": "f766d15f-f2ca-45a0-9fba-115a99246c52",
   "metadata": {},
   "outputs": [],
   "source": [
    "scaler = StandardScaler()\n",
    "profile_features = customer_profile.drop('CustomerID', axis=1)  \n",
    "profile_scaled = scaler.fit_transform(profile_features)\n",
    "\n",
    "# To Compute cosine similarity\n",
    "similarity_matrix = cosine_similarity(profile_scaled)"
   ]
  },
  {
   "cell_type": "markdown",
   "id": "22ab4ac7-80c8-435a-a005-cf9e2d5e4821",
   "metadata": {},
   "source": [
    "## Lookalike Recommendations:\n",
    "\n",
    "For the first 20 customers (C0001 to C0020), the top 3 most similar customers are found based on the cosine similarity scores.\n",
    "These recommendations are stored in a dictionary, with each customer mapped to their top 3 lookalikes and similarity scores."
   ]
  },
  {
   "cell_type": "code",
   "execution_count": 4,
   "id": "b3520cce-cffd-4a10-aa1d-a06f6ad2e3a6",
   "metadata": {},
   "outputs": [],
   "source": [
    "lookalikes = {}\n",
    "for i in range(20):  \n",
    "    customer_id = f'C00{i+1}'\n",
    "    similarity_scores = list(enumerate(similarity_matrix[i]))  \n",
    "    similarity_scores = sorted(similarity_scores, key=lambda x: x[1], reverse=True)[1:4]  \n",
    "    lookalikes[customer_id] = [(f'C00{score[0]+1}', score[1]) for score in similarity_scores]"
   ]
  },
  {
   "cell_type": "markdown",
   "id": "00dd1d31-7b5d-4198-a1e0-e23b3d8c18ef",
   "metadata": {},
   "source": [
    "## Output Format:\n",
    "\n",
    "Recommendations are formatted into a structured format where each row contains a customer ID and a list of the top 3 similar customers, including similarity scores.\n",
    "The results are saved to a CSV file (Lookalike.csv)."
   ]
  },
  {
   "cell_type": "code",
   "execution_count": 5,
   "id": "5d1d52e4-ab9f-4c5c-a008-1cae41c2f6b6",
   "metadata": {},
   "outputs": [],
   "source": [
    "lookalike_data = []\n",
    "for cust_id, recommendations in lookalikes.items():\n",
    "    recommendations_list = [f'{rec[0]}:{rec[1]:.4f}' for rec in recommendations]\n",
    "    lookalike_data.append([cust_id, ', '.join(recommendations_list)])\n"
   ]
  },
  {
   "cell_type": "code",
   "execution_count": 6,
   "id": "16552fd9-a0a1-4603-a95a-8a376d8c21e5",
   "metadata": {},
   "outputs": [],
   "source": [
    "lookalike_df = pd.DataFrame(lookalike_data, columns=[\"CustomerID\", \"Lookalikes\"])\n",
    "lookalike_df.to_csv('Siddhant_Gupta_Lookalike.csv', index=False)\n"
   ]
  },
  {
   "cell_type": "code",
   "execution_count": null,
   "id": "1e8d8195-450d-498a-9842-a344cd5c1d30",
   "metadata": {},
   "outputs": [],
   "source": []
  }
 ],
 "metadata": {
  "kernelspec": {
   "display_name": "Python 3 (ipykernel)",
   "language": "python",
   "name": "python3"
  },
  "language_info": {
   "codemirror_mode": {
    "name": "ipython",
    "version": 3
   },
   "file_extension": ".py",
   "mimetype": "text/x-python",
   "name": "python",
   "nbconvert_exporter": "python",
   "pygments_lexer": "ipython3",
   "version": "3.12.4"
  }
 },
 "nbformat": 4,
 "nbformat_minor": 5
}
